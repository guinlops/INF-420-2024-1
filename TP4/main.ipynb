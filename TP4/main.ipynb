{
 "cells": [
  {
   "cell_type": "code",
   "execution_count": 1,
   "id": "1bebcce8-9eec-4da0-a085-7616d46fd598",
   "metadata": {},
   "outputs": [
    {
     "name": "stdout",
     "output_type": "stream",
     "text": [
      "ok\n"
     ]
    }
   ],
   "source": [
    "import pandas as pd\n",
    "from sklearn.model_selection import train_test_split, cross_val_score, KFold\n",
    "from sklearn.preprocessing import StandardScaler\n",
    "from sklearn.naive_bayes import GaussianNB\n",
    "from sklearn.tree import DecisionTreeClassifier\n",
    "from sklearn.neighbors import KNeighborsClassifier\n",
    "from sklearn.svm import SVC\n",
    "from sklearn.ensemble import RandomForestClassifier, GradientBoostingClassifier\n",
    "from sklearn.neural_network import MLPClassifier\n",
    "from sklearn.metrics import accuracy_score\n",
    "import matplotlib.pyplot as plt\n",
    "from sklearn.model_selection import KFold\n",
    "from sklearn.model_selection import cross_val_score\n",
    "import numpy as np\n",
    "from sklearn.pipeline import make_pipeline\n",
    "from sklearn.metrics import classification_report, confusion_matrix\n",
    "import seaborn as sns\n",
    "\n",
    "print(\"ok\")\n"
   ]
  },
  {
   "cell_type": "code",
   "execution_count": 2,
   "id": "e89b6534-bf9b-4ef5-8076-b4dd82b38b40",
   "metadata": {},
   "outputs": [
    {
     "name": "stdout",
     "output_type": "stream",
     "text": [
      "Banco de dados aberto!\n"
     ]
    }
   ],
   "source": [
    "try:\n",
    "   df = pd.read_csv('koi_data.csv')\n",
    "except:\n",
    "   print(\"Falha ao abrir o banco de dados!\")\n",
    "else:\n",
    "   print(\"Banco de dados aberto!\")\n"
   ]
  },
  {
   "cell_type": "code",
   "execution_count": 3,
   "id": "56c681c9-ac2d-4a14-978d-7afe515fcb01",
   "metadata": {},
   "outputs": [
    {
     "name": "stdout",
     "output_type": "stream",
     "text": [
      "<class 'pandas.core.frame.DataFrame'>\n",
      "RangeIndex: 5202 entries, 0 to 5201\n",
      "Data columns (total 43 columns):\n",
      " #   Column            Non-Null Count  Dtype  \n",
      "---  ------            --------------  -----  \n",
      " 0   kepoi_name        5202 non-null   object \n",
      " 1   koi_disposition   5202 non-null   object \n",
      " 2   koi_period        5202 non-null   float64\n",
      " 3   koi_impact        5202 non-null   float64\n",
      " 4   koi_duration      5202 non-null   float64\n",
      " 5   koi_depth         5202 non-null   float64\n",
      " 6   koi_ror           5202 non-null   float64\n",
      " 7   koi_srho          5202 non-null   float64\n",
      " 8   koi_prad          5202 non-null   float64\n",
      " 9   koi_sma           5202 non-null   float64\n",
      " 10  koi_incl          5202 non-null   float64\n",
      " 11  koi_teq           5202 non-null   float64\n",
      " 12  koi_insol         5202 non-null   float64\n",
      " 13  koi_dor           5202 non-null   float64\n",
      " 14  koi_max_sngle_ev  5202 non-null   float64\n",
      " 15  koi_max_mult_ev   5202 non-null   float64\n",
      " 16  koi_model_snr     5202 non-null   float64\n",
      " 17  koi_steff         5202 non-null   float64\n",
      " 18  koi_slogg         5202 non-null   float64\n",
      " 19  koi_smet          5202 non-null   float64\n",
      " 20  koi_srad          5202 non-null   float64\n",
      " 21  koi_smass         5202 non-null   float64\n",
      " 22  koi_kepmag        5202 non-null   float64\n",
      " 23  koi_gmag          5202 non-null   float64\n",
      " 24  koi_rmag          5202 non-null   float64\n",
      " 25  koi_imag          5202 non-null   float64\n",
      " 26  koi_zmag          5202 non-null   float64\n",
      " 27  koi_jmag          5202 non-null   float64\n",
      " 28  koi_hmag          5202 non-null   float64\n",
      " 29  koi_kmag          5202 non-null   float64\n",
      " 30  koi_fwm_stat_sig  5202 non-null   float64\n",
      " 31  koi_fwm_sra       5202 non-null   float64\n",
      " 32  koi_fwm_sdec      5202 non-null   float64\n",
      " 33  koi_fwm_srao      5202 non-null   float64\n",
      " 34  koi_fwm_sdeco     5202 non-null   float64\n",
      " 35  koi_fwm_prao      5202 non-null   float64\n",
      " 36  koi_fwm_pdeco     5202 non-null   float64\n",
      " 37  koi_dicco_mra     5202 non-null   float64\n",
      " 38  koi_dicco_mdec    5202 non-null   float64\n",
      " 39  koi_dicco_msky    5202 non-null   float64\n",
      " 40  koi_dikco_mra     5202 non-null   float64\n",
      " 41  koi_dikco_mdec    5202 non-null   float64\n",
      " 42  koi_dikco_msky    5202 non-null   float64\n",
      "dtypes: float64(41), object(2)\n",
      "memory usage: 1.7+ MB\n"
     ]
    }
   ],
   "source": [
    "#Tipo de dado de cada coluna\n",
    "df.info()"
   ]
  },
  {
   "cell_type": "code",
   "execution_count": 4,
   "id": "eed19363-746a-461a-8888-e7ccc6254812",
   "metadata": {},
   "outputs": [
    {
     "data": {
      "image/png": "[encoded data removed]",
      "text/plain": [
       "<Figure size 640x480 with 1 Axes>"
      ]
     },
     "metadata": {},
     "output_type": "display_data"
    }
   ],
   "source": [
    "#Contagem de quantos CONFIRMED E FALSE POSITIVE tem NO DF\n",
    "\n",
    "contagens = df.koi_disposition.value_counts()\n",
    "\n",
    "# Criando a figura e o eixo\n",
    "fig, ax = plt.subplots()\n",
    "\n",
    "# Ocultando o eixo (opcional)\n",
    "ax.axis('off')\n",
    "ax.axis('tight')\n",
    "\n",
    "# Convertendo para DataFrame para criar a tabela\n",
    "table_data = contagens.reset_index()\n",
    "table_data.columns = ['koi_disposition', 'Contagem']\n",
    "\n",
    "# Criando a tabela\n",
    "ax.table(cellText=table_data.values, colLabels=table_data.columns, cellLoc='center', loc='center')\n",
    "\n",
    "# Ajustando o layout\n",
    "fig.tight_layout()\n",
    "\n",
    "# Exibindo a tabela\n",
    "plt.show()"
   ]
  },
  {
   "cell_type": "code",
   "execution_count": 5,
   "id": "b59308c6-f037-4aa8-8e54-3bc0a1d0a918",
   "metadata": {},
   "outputs": [],
   "source": [
    "X = df.iloc[:, 2:].values  # Todas as colunas exceto a primeira (KOI ID) e a segunda (label)\n",
    "Y = df.iloc[:, 1].values   # Segunda coluna (label) Koi Disposition, Confirmed, False Positive\n",
    "      "
   ]
  },
  {
   "cell_type": "code",
   "execution_count": 6,
   "id": "297d5aa1-dd2c-4087-9aa3-55708841b22c",
   "metadata": {},
   "outputs": [],
   "source": [
    "#X_train, X_test, y_train, y_test = train_test_split(X, Y, train_size = 0.70, shuffle = True, random_state = 0)\n",
    "#train_size=0.70: Define a proporção dos dados que será usada para treinamento. \n",
    "#Aqui, 70% dos dados serão usados para o conjunto de treino e os 30% restantes para o conjunto de teste.\n",
    "#shuffle=True: Indica que os dados devem ser embaralhados antes da divisão. \n",
    "#Isso é útil para garantir que a divisão seja aleatória e que os dados de treino e teste sejam representativos da distribuição geral dos dados."
   ]
  },
  {
   "cell_type": "code",
   "execution_count": 7,
   "id": "d5e2ff63-8dd7-4195-9297-a7444f141deb",
   "metadata": {},
   "outputs": [],
   "source": [
    "# Normalizando os dados para garantir que todas as colunas tenham o mesmo intervalo de valores.\n",
    "# Obs. A normalização garante que todos os features tenham a mesma importância.\n",
    "#scaler = StandardScaler()\n",
    "#scaler.fit(X_train)\n",
    "#X_train_scaled = scaler.transform(X_train)\n",
    "#X_train = pd.DataFrame(X_train_scaled, index = X_train.index, columns = X_train.columns)\n",
    "#X_test_scaled = scaler.transform(X_test)\n",
    "#X_test = pd.DataFrame(X_test_scaled, index = X_test.index, columns = X_test.columns)\n",
    "#print(y_train.value_counts())\n",
    "#X_train"
   ]
  },
  {
   "cell_type": "code",
   "execution_count": 8,
   "id": "ba32f3b2-40e0-469c-89c9-b9e7203caaeb",
   "metadata": {},
   "outputs": [],
   "source": [
    "models = {\n",
    "    'Naive Bayes': GaussianNB(),\n",
    "    'Decision Tree': DecisionTreeClassifier(),\n",
    "    'k-Nearest Neighbors': KNeighborsClassifier(),\n",
    "    'Support Vector Machines': SVC(),\n",
    "    'Random Forest': RandomForestClassifier(),\n",
    "    'Gradient Tree Boosting': GradientBoostingClassifier(),\n",
    "    #'Multi-layer Perceptron': MLPClassifier()  # Aumentar o número de iterações\n",
    "    'Multi-layer Perceptron': MLPClassifier(\n",
    "        hidden_layer_sizes=(25,),\n",
    "        activation='tanh',\n",
    "        solver='adam',\n",
    "        learning_rate_init=0.003\n",
    "    )\n",
    "}"
   ]
  },
  {
   "cell_type": "code",
   "execution_count": 9,
   "id": "07f41886-6a39-40c2-abb2-081593676db2",
   "metadata": {},
   "outputs": [],
   "source": [
    "kf = KFold(n_splits=5, shuffle=True, random_state=42)\n",
    "#Aqui, shuffle=True embaralha os dados antes de dividí-los, e random_state=42 garante que os resultados sejam reprodutíveis."
   ]
  },
  {
   "cell_type": "code",
   "execution_count": 10,
   "id": "116df429-112b-48e8-95fe-97c632612c19",
   "metadata": {
    "scrolled": true
   },
   "outputs": [
    {
     "name": "stdout",
     "output_type": "stream",
     "text": [
      "Naive Bayes: Acurácia média = 0.9166, Desvio padrão = 0.0111\n",
      "Decision Tree: Acurácia média = 0.9454, Desvio padrão = 0.0041\n",
      "k-Nearest Neighbors: Acurácia média = 0.8956, Desvio padrão = 0.0076\n",
      "Support Vector Machines: Acurácia média = 0.9358, Desvio padrão = 0.0076\n",
      "Random Forest: Acurácia média = 0.9700, Desvio padrão = 0.0034\n",
      "Gradient Tree Boosting: Acurácia média = 0.9696, Desvio padrão = 0.0030\n"
     ]
    },
    {
     "name": "stderr",
     "output_type": "stream",
     "text": [
      "C:\\Users\\guinu\\AppData\\Local\\Programs\\Python\\Python312\\Lib\\site-packages\\sklearn\\neural_network\\_multilayer_perceptron.py:690: ConvergenceWarning: Stochastic Optimizer: Maximum iterations (200) reached and the optimization hasn't converged yet.\n",
      "  warnings.warn(\n",
      "C:\\Users\\guinu\\AppData\\Local\\Programs\\Python\\Python312\\Lib\\site-packages\\sklearn\\neural_network\\_multilayer_perceptron.py:690: ConvergenceWarning: Stochastic Optimizer: Maximum iterations (200) reached and the optimization hasn't converged yet.\n",
      "  warnings.warn(\n",
      "C:\\Users\\guinu\\AppData\\Local\\Programs\\Python\\Python312\\Lib\\site-packages\\sklearn\\neural_network\\_multilayer_perceptron.py:690: ConvergenceWarning: Stochastic Optimizer: Maximum iterations (200) reached and the optimization hasn't converged yet.\n",
      "  warnings.warn(\n",
      "C:\\Users\\guinu\\AppData\\Local\\Programs\\Python\\Python312\\Lib\\site-packages\\sklearn\\neural_network\\_multilayer_perceptron.py:690: ConvergenceWarning: Stochastic Optimizer: Maximum iterations (200) reached and the optimization hasn't converged yet.\n",
      "  warnings.warn(\n"
     ]
    },
    {
     "name": "stdout",
     "output_type": "stream",
     "text": [
      "Multi-layer Perceptron: Acurácia média = 0.9552, Desvio padrão = 0.0083\n"
     ]
    },
    {
     "name": "stderr",
     "output_type": "stream",
     "text": [
      "C:\\Users\\guinu\\AppData\\Local\\Programs\\Python\\Python312\\Lib\\site-packages\\sklearn\\neural_network\\_multilayer_perceptron.py:690: ConvergenceWarning: Stochastic Optimizer: Maximum iterations (200) reached and the optimization hasn't converged yet.\n",
      "  warnings.warn(\n"
     ]
    }
   ],
   "source": [
    "for model_name, model in models.items():\n",
    "    # Cria o pipeline com a normalização e o modelo\n",
    "    pipeline = make_pipeline(StandardScaler(), model)\n",
    "    \n",
    "    # Executa a validação cruzada k-fold\n",
    "    scores = cross_val_score(pipeline, X, Y, cv=kf, scoring='accuracy')\n",
    "    \n",
    "    # Exibe a acurácia média e o desvio padrão\n",
    "    print(f'{model_name}: Acurácia média = {scores.mean():.4f}, Desvio padrão = {scores.std():.4f}')"
   ]
  },
  {
   "cell_type": "code",
   "execution_count": null,
   "id": "84b53dec-232a-4183-8657-cfadf8f11e26",
   "metadata": {},
   "outputs": [],
   "source": []
  },
  {
   "cell_type": "code",
   "execution_count": null,
   "id": "9a43e28f-63ec-4571-b20e-8b4a253c3fcc",
   "metadata": {},
   "outputs": [],
   "source": []
  },
  {
   "cell_type": "code",
   "execution_count": null,
   "id": "cc87aafa-d7a1-478c-8269-c0f66c824de3",
   "metadata": {},
   "outputs": [],
   "source": []
  }
 ],
 "metadata": {
  "kernelspec": {
   "display_name": "Python 3 (ipykernel)",
   "language": "python",
   "name": "python3"
  },
  "language_info": {
   "codemirror_mode": {
    "name": "ipython",
    "version": 3
   },
   "file_extension": ".py",
   "mimetype": "text/x-python",
   "name": "python",
   "nbconvert_exporter": "python",
   "pygments_lexer": "ipython3",
   "version": "3.12.2"
  }
 },
 "nbformat": 4,
 "nbformat_minor": 5
}
